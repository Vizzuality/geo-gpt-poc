{
 "cells": [
  {
   "cell_type": "code",
   "execution_count": 1,
   "metadata": {
    "tags": []
   },
   "outputs": [],
   "source": [
    "from math import log, tan, radians, cos, pi, floor, degrees, atan, sinh\n",
    "\n",
    "\n",
    "def sec(x):\n",
    "    return(1/cos(x))\n",
    "\n",
    "\n",
    "def latlon_to_xyz(lat, lon, z):\n",
    "    tile_count = pow(2, z)\n",
    "    x = (lon + 180) / 360\n",
    "    y = (1 - log(tan(radians(lat)) + sec(radians(lat))) / pi) / 2\n",
    "    return(tile_count*x, tile_count*y)"
   ]
  },
  {
   "cell_type": "code",
   "execution_count": 2,
   "metadata": {
    "tags": []
   },
   "outputs": [],
   "source": [
    "def bbox_to_xyz(lon_min, lon_max, lat_min, lat_max, z):\n",
    "    x_min, y_max = latlon_to_xyz(lat_min, lon_min, z)\n",
    "    x_max, y_min = latlon_to_xyz(lat_max, lon_max, z)\n",
    "    return(floor(x_min), floor(x_max),\n",
    "           floor(y_min), floor(y_max))"
   ]
  },
  {
   "cell_type": "markdown",
   "metadata": {},
   "source": []
  },
  {
   "cell_type": "code",
   "execution_count": 3,
   "metadata": {
    "tags": []
   },
   "outputs": [
    {
     "name": "stdout",
     "output_type": "stream",
     "text": [
      "Minimum latitude: 40.098802\n",
      "Maximum latitude: 40.278919\n",
      "Minimum longitude: -3.788859\n",
      "Maximum longitude: -3.554001\n"
     ]
    }
   ],
   "source": [
    "from geopy.geocoders import Nominatim\n",
    "from geopy import distance\n",
    "\n",
    "# create a geocoder instance\n",
    "geolocator = Nominatim(user_agent='my_app')\n",
    "\n",
    "# get the coordinates of the city or region\n",
    "location = geolocator.geocode('Valdemoro, Madrid')\n",
    "\n",
    "# calculate the size of the square\n",
    "size = 10  # in kilometers\n",
    "lat, lon = location.latitude, location.longitude\n",
    "lat_delta = distance.distance(kilometers=size).destination((lat, lon), bearing=0).latitude - lat\n",
    "lon_delta = distance.distance(kilometers=size).destination((lat, lon), bearing=90).longitude - lon\n",
    "\n",
    "# calculate the minimum and maximum latitude and longitude coordinates\n",
    "lat_min, lat_max = lat - lat_delta, lat + lat_delta\n",
    "lon_min, lon_max = lon - lon_delta, lon + lon_delta\n",
    "zoom = 12\n",
    "# print the results\n",
    "print(f'Minimum latitude: {lat_min:.6f}')\n",
    "print(f'Maximum latitude: {lat_max:.6f}')\n",
    "print(f'Minimum longitude: {lon_min:.6f}')\n",
    "print(f'Maximum longitude: {lon_max:.6f}')"
   ]
  },
  {
   "cell_type": "markdown",
   "metadata": {},
   "source": []
  },
  {
   "cell_type": "code",
   "execution_count": 4,
   "metadata": {
    "tags": []
   },
   "outputs": [
    {
     "data": {
      "text/html": [
       "<div style=\"width:100%;\"><div style=\"position:relative;width:100%;height:0;padding-bottom:60%;\"><span style=\"color:#565656\">Make this Notebook Trusted to load map: File -> Trust Notebook</span><iframe srcdoc=\"&lt;!DOCTYPE html&gt;\n",
       "&lt;html&gt;\n",
       "&lt;head&gt;\n",
       "    \n",
       "    &lt;meta http-equiv=&quot;content-type&quot; content=&quot;text/html; charset=UTF-8&quot; /&gt;\n",
       "    \n",
       "        &lt;script&gt;\n",
       "            L_NO_TOUCH = false;\n",
       "            L_DISABLE_3D = false;\n",
       "        &lt;/script&gt;\n",
       "    \n",
       "    &lt;style&gt;html, body {width: 100%;height: 100%;margin: 0;padding: 0;}&lt;/style&gt;\n",
       "    &lt;style&gt;#map {position:absolute;top:0;bottom:0;right:0;left:0;}&lt;/style&gt;\n",
       "    &lt;script src=&quot;https://cdn.jsdelivr.net/npm/leaflet@1.9.3/dist/leaflet.js&quot;&gt;&lt;/script&gt;\n",
       "    &lt;script src=&quot;https://code.jquery.com/jquery-1.12.4.min.js&quot;&gt;&lt;/script&gt;\n",
       "    &lt;script src=&quot;https://cdn.jsdelivr.net/npm/bootstrap@5.2.2/dist/js/bootstrap.bundle.min.js&quot;&gt;&lt;/script&gt;\n",
       "    &lt;script src=&quot;https://cdnjs.cloudflare.com/ajax/libs/Leaflet.awesome-markers/2.0.2/leaflet.awesome-markers.js&quot;&gt;&lt;/script&gt;\n",
       "    &lt;link rel=&quot;stylesheet&quot; href=&quot;https://cdn.jsdelivr.net/npm/leaflet@1.9.3/dist/leaflet.css&quot;/&gt;\n",
       "    &lt;link rel=&quot;stylesheet&quot; href=&quot;https://cdn.jsdelivr.net/npm/bootstrap@5.2.2/dist/css/bootstrap.min.css&quot;/&gt;\n",
       "    &lt;link rel=&quot;stylesheet&quot; href=&quot;https://netdna.bootstrapcdn.com/bootstrap/3.0.0/css/bootstrap.min.css&quot;/&gt;\n",
       "    &lt;link rel=&quot;stylesheet&quot; href=&quot;https://cdn.jsdelivr.net/npm/@fortawesome/fontawesome-free@6.2.0/css/all.min.css&quot;/&gt;\n",
       "    &lt;link rel=&quot;stylesheet&quot; href=&quot;https://cdnjs.cloudflare.com/ajax/libs/Leaflet.awesome-markers/2.0.2/leaflet.awesome-markers.css&quot;/&gt;\n",
       "    &lt;link rel=&quot;stylesheet&quot; href=&quot;https://cdn.jsdelivr.net/gh/python-visualization/folium/folium/templates/leaflet.awesome.rotate.min.css&quot;/&gt;\n",
       "    \n",
       "            &lt;meta name=&quot;viewport&quot; content=&quot;width=device-width,\n",
       "                initial-scale=1.0, maximum-scale=1.0, user-scalable=no&quot; /&gt;\n",
       "            &lt;style&gt;\n",
       "                #map_bb2d836c9bf5f2879e9af08b98f8f6f5 {\n",
       "                    position: relative;\n",
       "                    width: 100.0%;\n",
       "                    height: 100.0%;\n",
       "                    left: 0.0%;\n",
       "                    top: 0.0%;\n",
       "                }\n",
       "                .leaflet-container { font-size: 1rem; }\n",
       "            &lt;/style&gt;\n",
       "        \n",
       "&lt;/head&gt;\n",
       "&lt;body&gt;\n",
       "    \n",
       "    \n",
       "            &lt;div class=&quot;folium-map&quot; id=&quot;map_bb2d836c9bf5f2879e9af08b98f8f6f5&quot; &gt;&lt;/div&gt;\n",
       "        \n",
       "&lt;/body&gt;\n",
       "&lt;script&gt;\n",
       "    \n",
       "    \n",
       "            var map_bb2d836c9bf5f2879e9af08b98f8f6f5 = L.map(\n",
       "                &quot;map_bb2d836c9bf5f2879e9af08b98f8f6f5&quot;,\n",
       "                {\n",
       "                    center: [40.1888604, -3.67143],\n",
       "                    crs: L.CRS.EPSG3857,\n",
       "                    zoom: 12,\n",
       "                    zoomControl: true,\n",
       "                    preferCanvas: false,\n",
       "                    scrollWheelZoom: false,\n",
       "                }\n",
       "            );\n",
       "\n",
       "            \n",
       "\n",
       "        \n",
       "    \n",
       "            var tile_layer_9fa41940fe9b5bb1eaac473b66bec824 = L.tileLayer(\n",
       "                &quot;https://{s}.tile.openstreetmap.org/{z}/{x}/{y}.png&quot;,\n",
       "                {&quot;attribution&quot;: &quot;Data by \\u0026copy; \\u003ca target=\\&quot;_blank\\&quot; href=\\&quot;http://openstreetmap.org\\&quot;\\u003eOpenStreetMap\\u003c/a\\u003e, under \\u003ca target=\\&quot;_blank\\&quot; href=\\&quot;http://www.openstreetmap.org/copyright\\&quot;\\u003eODbL\\u003c/a\\u003e.&quot;, &quot;detectRetina&quot;: false, &quot;maxNativeZoom&quot;: 18, &quot;maxZoom&quot;: 18, &quot;minZoom&quot;: 0, &quot;noWrap&quot;: false, &quot;opacity&quot;: 1, &quot;subdomains&quot;: &quot;abc&quot;, &quot;tms&quot;: false}\n",
       "            ).addTo(map_bb2d836c9bf5f2879e9af08b98f8f6f5);\n",
       "        \n",
       "    \n",
       "            var rectangle_d4a13865b42a4374b02b10f71f0b3559 = L.rectangle(\n",
       "                [[40.09880205805076, -3.788858526832764], [40.27891874194925, -3.554001473167236]],\n",
       "                {&quot;bubblingMouseEvents&quot;: true, &quot;color&quot;: &quot;blue&quot;, &quot;dashArray&quot;: null, &quot;dashOffset&quot;: null, &quot;fill&quot;: false, &quot;fillColor&quot;: &quot;blue&quot;, &quot;fillOpacity&quot;: 0.2, &quot;fillRule&quot;: &quot;evenodd&quot;, &quot;lineCap&quot;: &quot;round&quot;, &quot;lineJoin&quot;: &quot;round&quot;, &quot;noClip&quot;: false, &quot;opacity&quot;: 1.0, &quot;smoothFactor&quot;: 1.0, &quot;stroke&quot;: true, &quot;weight&quot;: 3}\n",
       "            ).addTo(map_bb2d836c9bf5f2879e9af08b98f8f6f5);\n",
       "        \n",
       "&lt;/script&gt;\n",
       "&lt;/html&gt;\" style=\"position:absolute;width:100%;height:100%;left:0;top:0;border:none !important;\" allowfullscreen webkitallowfullscreen mozallowfullscreen></iframe></div></div>"
      ],
      "text/plain": [
       "<folium.folium.Map at 0x11382c810>"
      ]
     },
     "execution_count": 4,
     "metadata": {},
     "output_type": "execute_result"
    }
   ],
   "source": [
    "import folium\n",
    "\n",
    "# Calculate the center of the bounding box\n",
    "center_lat = (lat_min + lat_max) / 2\n",
    "center_lon = (lon_min + lon_max) / 2\n",
    "\n",
    "# Create a folium Map instance centered on the bounding box, with the desired zoom level\n",
    "m = folium.Map(location=[center_lat, center_lon], zoom_start=12, scrollWheelZoom=False)\n",
    "\n",
    "# Add a rectangle to the map to represent the bounding box\n",
    "folium.Rectangle(\n",
    "    bounds=[[lat_min, lon_min], [lat_max, lon_max]],\n",
    "    fill=False,\n",
    "    color=\"blue\",\n",
    ").add_to(m)\n",
    "\n",
    "# Display the map in the Jupyter Notebook\n",
    "m"
   ]
  },
  {
   "cell_type": "code",
   "execution_count": 5,
   "metadata": {
    "tags": []
   },
   "outputs": [],
   "source": [
    "legend = {\n",
    "    \"items\": [\n",
    "        {\"name\": \"Water\", \"color\": \"#419BDF\", \"id\": 0},\n",
    "        {\"name\": \"Trees\", \"color\": \"#397D49\", \"id\": 1},\n",
    "        {\"name\": \"Grass\", \"color\": \"#88B053\", \"id\": 2},\n",
    "        {\"name\": \"Flooded Vegetation\", \"color\": \"#7A87C6\", \"id\": 3},\n",
    "        {\"name\": \"Crops\", \"color\": \"#E49635\", \"id\": 4},\n",
    "        {\"name\": \"Shrub and Scrub\", \"color\": \"#DFC35A\", \"id\": 5},\n",
    "        {\"name\": \"Built\", \"color\": \"#C4281B\", \"id\": 6},\n",
    "        {\"name\": \"Bare\", \"color\": \"#A59B8F\", \"id\": 7},\n",
    "        {\"name\": \"Snow and Ice\", \"color\": \"#B39FE1\", \"id\": 8},\n",
    "    ]\n",
    "}"
   ]
  },
  {
   "cell_type": "code",
   "execution_count": 6,
   "metadata": {
    "tags": []
   },
   "outputs": [
    {
     "name": "stdout",
     "output_type": "stream",
     "text": [
      "{0: {'name': 'Water', 'area': {'all': 12096.894117647058}}, 1: {'name': 'Trees', 'area': {'all': 156525.03529411764}}, 2: {'name': 'Grass', 'area': {'all': 9561}}, 3: {'name': 'Flooded Vegetation', 'area': {'all': 2174}}, 4: {'name': 'Crops', 'area': {'all': 2451052.619607867}}, 5: {'name': 'Shrub and Scrub', 'area': {'all': 558483.6549019614}}, 6: {'name': 'Built', 'area': {'all': 830611.9019607825}}, 7: {'name': 'Bare', 'area': {'all': 1221206.5098039226}}, 8: {'name': 'Snow and Ice', 'area': {'all': 10}}}\n"
     ]
    },
    {
     "data": {
      "text/html": [
       "<div style=\"width:100%;\"><div style=\"position:relative;width:100%;height:0;padding-bottom:60%;\"><span style=\"color:#565656\">Make this Notebook Trusted to load map: File -> Trust Notebook</span><iframe srcdoc=\"&lt;!DOCTYPE html&gt;\n",
       "&lt;html&gt;\n",
       "&lt;head&gt;\n",
       "    \n",
       "    &lt;meta http-equiv=&quot;content-type&quot; content=&quot;text/html; charset=UTF-8&quot; /&gt;\n",
       "    \n",
       "        &lt;script&gt;\n",
       "            L_NO_TOUCH = false;\n",
       "            L_DISABLE_3D = false;\n",
       "        &lt;/script&gt;\n",
       "    \n",
       "    &lt;style&gt;html, body {width: 100%;height: 100%;margin: 0;padding: 0;}&lt;/style&gt;\n",
       "    &lt;style&gt;#map {position:absolute;top:0;bottom:0;right:0;left:0;}&lt;/style&gt;\n",
       "    &lt;script src=&quot;https://cdn.jsdelivr.net/npm/leaflet@1.9.3/dist/leaflet.js&quot;&gt;&lt;/script&gt;\n",
       "    &lt;script src=&quot;https://code.jquery.com/jquery-1.12.4.min.js&quot;&gt;&lt;/script&gt;\n",
       "    &lt;script src=&quot;https://cdn.jsdelivr.net/npm/bootstrap@5.2.2/dist/js/bootstrap.bundle.min.js&quot;&gt;&lt;/script&gt;\n",
       "    &lt;script src=&quot;https://cdnjs.cloudflare.com/ajax/libs/Leaflet.awesome-markers/2.0.2/leaflet.awesome-markers.js&quot;&gt;&lt;/script&gt;\n",
       "    &lt;link rel=&quot;stylesheet&quot; href=&quot;https://cdn.jsdelivr.net/npm/leaflet@1.9.3/dist/leaflet.css&quot;/&gt;\n",
       "    &lt;link rel=&quot;stylesheet&quot; href=&quot;https://cdn.jsdelivr.net/npm/bootstrap@5.2.2/dist/css/bootstrap.min.css&quot;/&gt;\n",
       "    &lt;link rel=&quot;stylesheet&quot; href=&quot;https://netdna.bootstrapcdn.com/bootstrap/3.0.0/css/bootstrap.min.css&quot;/&gt;\n",
       "    &lt;link rel=&quot;stylesheet&quot; href=&quot;https://cdn.jsdelivr.net/npm/@fortawesome/fontawesome-free@6.2.0/css/all.min.css&quot;/&gt;\n",
       "    &lt;link rel=&quot;stylesheet&quot; href=&quot;https://cdnjs.cloudflare.com/ajax/libs/Leaflet.awesome-markers/2.0.2/leaflet.awesome-markers.css&quot;/&gt;\n",
       "    &lt;link rel=&quot;stylesheet&quot; href=&quot;https://cdn.jsdelivr.net/gh/python-visualization/folium/folium/templates/leaflet.awesome.rotate.min.css&quot;/&gt;\n",
       "    \n",
       "            &lt;meta name=&quot;viewport&quot; content=&quot;width=device-width,\n",
       "                initial-scale=1.0, maximum-scale=1.0, user-scalable=no&quot; /&gt;\n",
       "            &lt;style&gt;\n",
       "                #map_a1abc67074ff30ef94a5b1a3899e9505 {\n",
       "                    position: relative;\n",
       "                    width: 100.0%;\n",
       "                    height: 100.0%;\n",
       "                    left: 0.0%;\n",
       "                    top: 0.0%;\n",
       "                }\n",
       "                .leaflet-container { font-size: 1rem; }\n",
       "            &lt;/style&gt;\n",
       "        \n",
       "&lt;/head&gt;\n",
       "&lt;body&gt;\n",
       "    \n",
       "    \n",
       "            &lt;div class=&quot;folium-map&quot; id=&quot;map_a1abc67074ff30ef94a5b1a3899e9505&quot; &gt;&lt;/div&gt;\n",
       "        \n",
       "&lt;/body&gt;\n",
       "&lt;script&gt;\n",
       "    \n",
       "    \n",
       "            var map_a1abc67074ff30ef94a5b1a3899e9505 = L.map(\n",
       "                &quot;map_a1abc67074ff30ef94a5b1a3899e9505&quot;,\n",
       "                {\n",
       "                    center: [40.1888604, -3.67143],\n",
       "                    crs: L.CRS.EPSG3857,\n",
       "                    zoom: 12,\n",
       "                    zoomControl: true,\n",
       "                    preferCanvas: false,\n",
       "                    scrollWheelZoom: false,\n",
       "                }\n",
       "            );\n",
       "\n",
       "            \n",
       "\n",
       "        \n",
       "    \n",
       "            var tile_layer_5d9fa0f4a818c893b316eaee6be5d7c4 = L.tileLayer(\n",
       "                &quot;https://{s}.tile.openstreetmap.org/{z}/{x}/{y}.png&quot;,\n",
       "                {&quot;attribution&quot;: &quot;Data by \\u0026copy; \\u003ca target=\\&quot;_blank\\&quot; href=\\&quot;http://openstreetmap.org\\&quot;\\u003eOpenStreetMap\\u003c/a\\u003e, under \\u003ca target=\\&quot;_blank\\&quot; href=\\&quot;http://www.openstreetmap.org/copyright\\&quot;\\u003eODbL\\u003c/a\\u003e.&quot;, &quot;detectRetina&quot;: false, &quot;maxNativeZoom&quot;: 18, &quot;maxZoom&quot;: 18, &quot;minZoom&quot;: 0, &quot;noWrap&quot;: false, &quot;opacity&quot;: 1, &quot;subdomains&quot;: &quot;abc&quot;, &quot;tms&quot;: false}\n",
       "            ).addTo(map_a1abc67074ff30ef94a5b1a3899e9505);\n",
       "        \n",
       "    \n",
       "            var tile_layer_84fda600f938564a43047a6f47fe249d = L.tileLayer(\n",
       "                &quot;https://earthengine.googleapis.com/v1alpha/projects/earthengine-legacy/maps/8e864a23c547c6379f13f4fd2830ccdc-823c670f522c986b4bc1cd078a2c6e3e/tiles/{z}/{x}/{y}&quot;,\n",
       "                {&quot;attribution&quot;: &quot;Map Data \\u0026copy; \\u003ca href=\\&quot;https://earthengine.google.com/\\&quot;\\u003eGoogle Earth Engine\\u003c/a\\u003e&quot;, &quot;detectRetina&quot;: false, &quot;maxNativeZoom&quot;: 18, &quot;maxZoom&quot;: 18, &quot;minZoom&quot;: 0, &quot;noWrap&quot;: false, &quot;opacity&quot;: 1, &quot;subdomains&quot;: &quot;abc&quot;, &quot;tms&quot;: false}\n",
       "            ).addTo(map_a1abc67074ff30ef94a5b1a3899e9505);\n",
       "        \n",
       "    \n",
       "            var layer_control_51ec6624a878decab7c518f508ba9133 = {\n",
       "                base_layers : {\n",
       "                    &quot;openstreetmap&quot; : tile_layer_5d9fa0f4a818c893b316eaee6be5d7c4,\n",
       "                },\n",
       "                overlays :  {\n",
       "                    &quot;Land Cover&quot; : tile_layer_84fda600f938564a43047a6f47fe249d,\n",
       "                },\n",
       "            };\n",
       "            L.control.layers(\n",
       "                layer_control_51ec6624a878decab7c518f508ba9133.base_layers,\n",
       "                layer_control_51ec6624a878decab7c518f508ba9133.overlays,\n",
       "                {&quot;autoZIndex&quot;: true, &quot;collapsed&quot;: true, &quot;position&quot;: &quot;topright&quot;}\n",
       "            ).addTo(map_a1abc67074ff30ef94a5b1a3899e9505);\n",
       "        \n",
       "&lt;/script&gt;\n",
       "&lt;/html&gt;\" style=\"position:absolute;width:100%;height:100%;left:0;top:0;border:none !important;\" allowfullscreen webkitallowfullscreen mozallowfullscreen></iframe></div></div>"
      ],
      "text/plain": [
       "<folium.folium.Map at 0x1140d5910>"
      ]
     },
     "metadata": {},
     "output_type": "display_data"
    }
   ],
   "source": [
    "import ee\n",
    "import folium\n",
    "from folium import plugins\n",
    "\n",
    "ee.Initialize()\n",
    "\n",
    "# Define the area of interest\n",
    "aoi = ee.Geometry.Rectangle([lon_min, lat_min, lon_max, lat_max])\n",
    "\n",
    "# Load the image collection\n",
    "collection = ee.ImageCollection(\"projects/wri-datalab/dynamicworld/rw/rgb/DW_202207\")\n",
    "\n",
    "# Filter the collection to only include images that intersect the area of interest\n",
    "filtered_collection = collection.filterBounds(aoi)\n",
    "\n",
    "# Create a mosaic from the filtered collection\n",
    "land_cover = filtered_collection.mosaic()\n",
    "\n",
    "# Clip the dataset to the area of interest\n",
    "land_cover = land_cover.clip(aoi)\n",
    "\n",
    "# Function to convert hex color to a list of RGB values\n",
    "def hex_to_rgb(hex_color):\n",
    "    return [int(hex_color[i:i+2], 16) for i in (1, 3, 5)]\n",
    "\n",
    "# Calculate the area for each class using color values\n",
    "stats = {}\n",
    "\n",
    "for class_info in legend[\"items\"]:\n",
    "    class_id = class_info['id']\n",
    "    class_color = ee.Image.constant(hex_to_rgb(class_info['color'])).toFloat()\n",
    "\n",
    "    mask = land_cover.eq(class_color).reduce(ee.Reducer.allNonZero())\n",
    "\n",
    "    class_area = mask.reduceRegion(\n",
    "        reducer=ee.Reducer.sum(),\n",
    "        geometry=aoi,\n",
    "        scale=10,\n",
    "        maxPixels=1e9\n",
    "    )\n",
    "\n",
    "    stats[class_id] = {\n",
    "        \"name\": class_info[\"name\"],\n",
    "        \"area\": class_area.getInfo(),\n",
    "    }\n",
    "\n",
    "print(stats)\n",
    "\n",
    "# Function to add Earth Engine layers to folium map\n",
    "def add_ee_layer(self, ee_image_object, vis_params, name):\n",
    "    map_id_dict = ee.Image(ee_image_object).getMapId(vis_params)\n",
    "    folium.raster_layers.TileLayer(\n",
    "        tiles=map_id_dict['tile_fetcher'].url_format,\n",
    "        attr='Map Data &copy; <a href=\"https://earthengine.google.com/\">Google Earth Engine</a>',\n",
    "        name=name,\n",
    "        overlay=True,\n",
    "        control=True\n",
    "    ).add_to(self)\n",
    "\n",
    "folium.Map.add_ee_layer = add_ee_layer\n",
    "\n",
    "# Create a folium map object\n",
    "my_map = folium.Map(location=[location.latitude, location.longitude], zoom_start=12, scrollWheelZoom=False)\n",
    "\n",
    "# Add the land cover layer to the map\n",
    "vis_params = {\n",
    "    'bands': ['vis-red', 'vis-green', 'vis-blue'],\n",
    "    'min': 0,\n",
    "    'max': 255,\n",
    "    'gamma': 1.0\n",
    "}\n",
    "my_map.add_ee_layer(land_cover, vis_params, 'Land Cover')\n",
    "\n",
    "# Add a layer control panel to the map\n",
    "my_map.add_child(folium.LayerControl())\n",
    "\n",
    "# Display the map\n",
    "display(my_map)\n"
   ]
  },
  {
   "cell_type": "code",
   "execution_count": 7,
   "metadata": {
    "tags": []
   },
   "outputs": [],
   "source": [
    "\n",
    "import os\n",
    "from dotenv import load_dotenv\n",
    "load_dotenv()\n",
    "\n",
    "openai_api_key = os.environ.get(\"OPENAI_API_KEY\")\n",
    "\n",
    "from langchain.agents import load_tools\n",
    "from langchain.agents import initialize_agent\n",
    "from langchain.llms import OpenAI"
   ]
  },
  {
   "cell_type": "code",
   "execution_count": 13,
   "metadata": {
    "tags": []
   },
   "outputs": [],
   "source": [
    "from langchain.chat_models import ChatOpenAI\n",
    "from langchain.schema import HumanMessage, SystemMessage, AIMessage\n",
    "import json\n",
    "chat = ChatOpenAI(model_name=\"gpt-3.5-turbo\", temperature=0.7, openai_api_key=openai_api_key)"
   ]
  },
  {
   "cell_type": "code",
   "execution_count": null,
   "metadata": {
    "tags": []
   },
   "outputs": [],
   "source": [
    "from IPython.display import Markdown\n",
    "response = chat(\n",
    "    [\n",
    "        SystemMessage(content=\"You are a decision-maker responsible for the development and management of a given area. You have been provided with land cover statistics from the WRI Dynamic World dataset for your area, which includes information about various land cover types, such as water, trees, grass, crops, built-up areas, and more.\"),\n",
    "        AIMessage(content=json.dumps(stats)),\n",
    "        HumanMessage(content=\"Analyze this data provided and give extensive insights about the characteristics of the terrain, possible opportunities, environmental risks and challenges, advice on infrastructure development, and any other relevant information that can help in formulating sustainable policies and strategies for the provided data area. Also, show the statistics provided in a comprehensive format\")\n",
    "    ]\n",
    ")\n",
    "\n",
    "aimessage_content = response.content\n",
    "\n",
    "display(Markdown(aimessage_content))"
   ]
  },
  {
   "cell_type": "code",
   "execution_count": null,
   "metadata": {},
   "outputs": [],
   "source": []
  }
 ],
 "metadata": {
  "kernelspec": {
   "display_name": "Python 3 (ipykernel)",
   "language": "python",
   "name": "python3"
  },
  "language_info": {
   "codemirror_mode": {
    "name": "ipython",
    "version": 3
   },
   "file_extension": ".py",
   "mimetype": "text/x-python",
   "name": "python",
   "nbconvert_exporter": "python",
   "pygments_lexer": "ipython3",
   "version": "3.11.1"
  }
 },
 "nbformat": 4,
 "nbformat_minor": 4
}
